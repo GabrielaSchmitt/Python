{
  "cells": [
    {
      "cell_type": "markdown",
      "metadata": {
        "id": "03qODw14SJek"
      },
      "source": [
        "1 - Escreva um programa que leia uma lista R de 6 elementos contendo um resultado da Mega-Sena e uma lista A de 10 elementos contendo uma aposta. A seguir, mostre quantos acertos o apostador obteve. "
      ]
    },
    {
      "cell_type": "code",
      "execution_count": null,
      "metadata": {
        "id": "WOKTJxMJKHy3"
      },
      "outputs": [],
      "source": [
        "R = [] \n",
        "A = [] \n",
        "for i in range(0, 6):\n",
        "  R.append(int(input('Digite o número resultado da Mega sena: ')))\n",
        "\n",
        "for b in range(0, 10):\n",
        "  A.append(int(input('Digite o número de sua Aposta: ')))\n",
        "\n",
        "print('\\nNúmeros da aposta que foram acertados: ')\n",
        "for i in A: \n",
        "  #result = R.find(i)\n",
        "  if i in R:\n",
        "    print(i)"
      ]
    },
    {
      "cell_type": "markdown",
      "metadata": {
        "id": "eqnKDBwGU2AY"
      },
      "source": [
        "2 - A definição de \"amplitude\" em Estatística é dada pela grandeza numérica resultante da diferença entre o maior valor e o menor valor do conjunto de valores de uma amostra. Escreva programa que leia uma sequencia de números reais positivos terminada em zero (o número zero não deve ser processado pois serve para marcar o final da entrada de dados). O programa deve determinar e mostrar o valor da amplitude estatística dos valores. Exemplo: para a sequencia 4.5, 5.2, 1.7, 1.3, 1.9, 2.2, 8.3, 9.1, 5.4 e 0, teremos o resultado de 7.8 como amplitude."
      ]
    },
    {
      "cell_type": "code",
      "execution_count": 25,
      "metadata": {
        "colab": {
          "base_uri": "https://localhost:8080/"
        },
        "id": "PuUAuCNZU2RX",
        "outputId": "0b829599-a3b6-4765-eaf6-b05b53bd417a"
      },
      "outputs": [
        {
          "name": "stdout",
          "output_type": "stream",
          "text": [
            "Digite um número: 1.3\n",
            "Digite um número: 7.8\n",
            "Digite um número: 9.1\n",
            "Digite um número: 0\n",
            "A amplitude estatística da sequência de valores é: 7.8\n"
          ]
        }
      ],
      "source": [
        "numbers = []\n",
        "while 1:\n",
        "  val = float(input('Digite um número: '))\n",
        "  if val == 0: break\n",
        "  numbers.append(float(val))\n",
        "numbers.sort()\n",
        "#dif = numbers[0] - numbers[:]\n",
        "print('A amplitude estatística da sequência de valores é: ' + str(float(numbers[-1] - numbers[0])))"
      ]
    },
    {
      "cell_type": "markdown",
      "metadata": {
        "id": "bJTkHM-nYAKk"
      },
      "source": [
        "3 - Escreva um programa que armazene em um dicionário o modelo e o consumo médio de cinco carros. Calcule quantos litros de combustível cada um dos carros cadastrados consome para percorrer uma distância de 1.000 quilômetros e quanto isso custará, considerando o preço do combustível informado pelo usuário. "
      ]
    },
    {
      "cell_type": "code",
      "execution_count": 27,
      "metadata": {
        "colab": {
          "base_uri": "https://localhost:8080/"
        },
        "id": "VyDV89f1YAm7",
        "outputId": "fd57a239-e958-411d-ebf5-14dc47e9be0f"
      },
      "outputs": [
        {
          "name": "stdout",
          "output_type": "stream",
          "text": [
            "Informe o preço do combustível: 3.87\n",
            "Para percorrer 1000km, será gasto: \n",
            "\n",
            "Gol:            90.91 litros     - R$351.82    \n",
            "Vectra:         166.67 litros    - R$645.0     \n",
            "Palio:          111.11 litros    - R$430.0     \n",
            "Sandero:        142.86 litros    - R$552.86    \n",
            "Jeep Compass:   153.85 litros    - R$595.38    \n"
          ]
        }
      ],
      "source": [
        "carros = dict(zip(['Gol', 'Vectra', 'Palio', 'Sandero', 'Jeep Compass'], [11, 6, 9, 7, 6.5]))\n",
        "#print('O carro mais economico do dicionário é:', max(carros, key=carros.get))\n",
        "preco = float(input('Informe o preço do combustível: '))\n",
        "print('Para percorrer 1000km, será gasto: \\n')\n",
        "for carro, autonomia in carros.items():\n",
        "  txt1 = carro + ': '\n",
        "  txt2 = str(round(1000/autonomia,2)) + ' litros'\n",
        "  txt3 = ' - R$' + str(round(1000/autonomia*preco, 2))\n",
        "  print(txt1.ljust(15), txt2.ljust(15), txt3.ljust(15))"
      ]
    },
    {
      "cell_type": "markdown",
      "metadata": {
        "id": "A4IPPja7ZADb"
      },
      "source": [
        "4 - Um posto de combustível deseja determinar qual de seus produtos tem a preferência de seus clientes. Para isso, deverá ser disponibilizado aos frentistas um programa que apresente o seguinte menu:\n",
        "\n",
        "[1] Álcool\n",
        "\n",
        "[2] Gasolina comum\n",
        "\n",
        "[3] Gasolina aditivada\n",
        "\n",
        "[4] Diesel\n",
        "\n",
        "[5] Fim\n",
        "\n",
        "A cada abastecimento, o frentista deverá informar qual foi o combustível vendido ao cliente. O programa deverá será encerrado quando o código informado for o número 5 escrevendo então a mensagem: \"Muito obrigado!\" e a porcentagem de clientes que abasteceram cada tipo de combustível. "
      ]
    },
    {
      "cell_type": "code",
      "execution_count": 58,
      "metadata": {
        "colab": {
          "base_uri": "https://localhost:8080/"
        },
        "id": "wbEXPGccZAN7",
        "outputId": "9b3be4ef-5102-4d7b-fb9f-5da74678cfc6"
      },
      "outputs": [
        {
          "name": "stdout",
          "output_type": "stream",
          "text": [
            "Álcool                0\n",
            "Gasolina comum        0\n",
            "Gasolina aditivada    0\n",
            "Diesel                0\n",
            "acessos               0\n",
            "dtype: int64\n",
            "\n",
            "\tPOSTO DE COMBUSTÍVEL \n",
            "\n",
            " [ 1 ] - Álcool\n",
            " [ 2 ] - Gasolina comum\n",
            " [ 3 ] - Gasolina aditivada\n",
            " [ 4 ] - Diesel \n",
            " [ 5 ] - Fim\n",
            "\n",
            "Informe a opção desejada: 1\n",
            "\n",
            "\tPOSTO DE COMBUSTÍVEL \n",
            "\n",
            " [ 1 ] - Álcool\n",
            " [ 2 ] - Gasolina comum\n",
            " [ 3 ] - Gasolina aditivada\n",
            " [ 4 ] - Diesel \n",
            " [ 5 ] - Fim\n",
            "\n",
            "Informe a opção desejada: 1\n",
            "\n",
            "\tPOSTO DE COMBUSTÍVEL \n",
            "\n",
            " [ 1 ] - Álcool\n",
            " [ 2 ] - Gasolina comum\n",
            " [ 3 ] - Gasolina aditivada\n",
            " [ 4 ] - Diesel \n",
            " [ 5 ] - Fim\n",
            "\n",
            "Informe a opção desejada: 1\n",
            "\n",
            "\tPOSTO DE COMBUSTÍVEL \n",
            "\n",
            " [ 1 ] - Álcool\n",
            " [ 2 ] - Gasolina comum\n",
            " [ 3 ] - Gasolina aditivada\n",
            " [ 4 ] - Diesel \n",
            " [ 5 ] - Fim\n",
            "\n",
            "Informe a opção desejada: 2\n",
            "\n",
            "\tPOSTO DE COMBUSTÍVEL \n",
            "\n",
            " [ 1 ] - Álcool\n",
            " [ 2 ] - Gasolina comum\n",
            " [ 3 ] - Gasolina aditivada\n",
            " [ 4 ] - Diesel \n",
            " [ 5 ] - Fim\n",
            "\n",
            "Informe a opção desejada: 5\n",
            "\n",
            "\tMuito Obrigado!\n",
            "\n",
            "\n",
            "\tPorcentagens de clientes por combustível: \n",
            "\n",
            " Álcool: 0.75%\n",
            " Gasolina comum: 0.25%\n",
            " Gasolina aditivada: 0.0%\n",
            " Diesel: 0.0%\n"
          ]
        },
        {
          "data": {
            "text/plain": [
              "Álcool                3\n",
              "Gasolina comum        1\n",
              "Gasolina aditivada    0\n",
              "Diesel                0\n",
              "acessos               4\n",
              "dtype: int64"
            ]
          },
          "execution_count": 58,
          "metadata": {},
          "output_type": "execute_result"
        }
      ],
      "source": [
        "import pandas as pd\n",
        "\n",
        "df = pd.DataFrame()\n",
        "df = pd.Series({'Álcool': 0, 'Gasolina comum': 0, 'Gasolina aditivada': 0, 'Diesel': 0, 'acessos': 0})\n",
        "\n",
        "def acesso(controller):\n",
        "  df.loc['acessos'] += 1\n",
        "  #df.loc[0]['acessos'] = df.iloc[0]['acessos'] + 1\n",
        "  if controller == 1:\n",
        "    df.loc['Álcool'] += 1\n",
        "  elif controller == 2: \n",
        "    df.loc['Gasolina comum'] +=  1\n",
        "  elif controller == 3: \n",
        "    df.loc['Gasolina aditivada'] += 1\n",
        "  elif controller == 4: \n",
        "    df.loc['Diesel'] += 1 \n",
        "print(df)\n",
        "controller = 1\n",
        "while controller != 5:\n",
        "  controller = int(input('\\n\\tPOSTO DE COMBUSTÍVEL \\n\\n [ 1 ] - Álcool\\n [ 2 ] - Gasolina comum\\n [ 3 ] - Gasolina aditivada\\n [ 4 ] - Diesel \\n [ 5 ] - Fim\\n\\nInforme a opção desejada: '))\n",
        "  if controller != 5: \n",
        "    acesso(controller)\n",
        "    controller = 1\n",
        "\n",
        "print('\\n\\tMuito Obrigado!\\n')\n",
        "print('\\n\\tPorcentagens de clientes por combustível: \\n\\n Álcool: ' + str(df.loc['Álcool'] / df.loc['acessos']) + '%\\n Gasolina comum: ' + str(df.loc['Gasolina comum'] / df.loc['acessos']) + '%\\n Gasolina aditivada: ' + str(df.loc['Gasolina aditivada'] / df.loc['acessos']) + '%\\n Diesel: ' + str(df.loc['Diesel'] / df.loc['acessos']) + '%')\n",
        "df"
      ]
    }
  ],
  "metadata": {
    "colab": {
      "provenance": []
    },
    "kernelspec": {
      "display_name": "Python 3.10.4 64-bit",
      "language": "python",
      "name": "python3"
    },
    "language_info": {
      "name": "python",
      "version": "3.10.4"
    },
    "vscode": {
      "interpreter": {
        "hash": "369f2c481f4da34e4445cda3fffd2e751bd1c4d706f27375911949ba6bb62e1c"
      }
    }
  },
  "nbformat": 4,
  "nbformat_minor": 0
}
